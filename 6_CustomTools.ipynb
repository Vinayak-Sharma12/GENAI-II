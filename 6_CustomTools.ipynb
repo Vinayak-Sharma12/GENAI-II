{
  "nbformat": 4,
  "nbformat_minor": 0,
  "metadata": {
    "colab": {
      "provenance": [],
      "authorship_tag": "ABX9TyNMEobH/jfBvu2exBhZzMOq",
      "include_colab_link": true
    },
    "kernelspec": {
      "name": "python3",
      "display_name": "Python 3"
    },
    "language_info": {
      "name": "python"
    }
  },
  "cells": [
    {
      "cell_type": "markdown",
      "metadata": {
        "id": "view-in-github",
        "colab_type": "text"
      },
      "source": [
        "<a href=\"https://colab.research.google.com/github/Vinayak-Sharma12/GENAI-II/blob/main/6_CustomTools.ipynb\" target=\"_parent\"><img src=\"https://colab.research.google.com/assets/colab-badge.svg\" alt=\"Open In Colab\"/></a>"
      ]
    },
    {
      "cell_type": "markdown",
      "source": [
        "## **3 Ways to Custom Tools:**\n",
        "\n",
        "1. Using Tool Decorator (@tool)\n",
        "2. Using StructuredTool and Pydantic\n",
        "3. Using BaseClass Tool"
      ],
      "metadata": {
        "id": "W82R81iCh-i9"
      }
    },
    {
      "cell_type": "markdown",
      "source": [
        "# **1. Tool Decorator(@tool)**"
      ],
      "metadata": {
        "id": "gAQPmRb7idU9"
      }
    },
    {
      "cell_type": "markdown",
      "source": [
        "Steps -> @tool -> Create function ->add Type Hint -> add docstring"
      ],
      "metadata": {
        "id": "i8IuAqHBior1"
      }
    },
    {
      "cell_type": "code",
      "source": [
        "!pip install -q langchain"
      ],
      "metadata": {
        "id": "d2dUGYnEjBDL"
      },
      "execution_count": 1,
      "outputs": []
    },
    {
      "cell_type": "code",
      "source": [
        "from langchain_core.tools  import tool"
      ],
      "metadata": {
        "id": "ckbqrykljG_s"
      },
      "execution_count": 2,
      "outputs": []
    },
    {
      "cell_type": "code",
      "source": [
        "@tool\n",
        "def multiply(a:int,b:int)->int:\n",
        "  \"\"\"Multiply two numbers\"\"\"\n",
        "  return a*b"
      ],
      "metadata": {
        "id": "Is33uw-qkORr"
      },
      "execution_count": 4,
      "outputs": []
    },
    {
      "cell_type": "code",
      "source": [
        "result=multiply.invoke({'a':2,'b':3})\n",
        "print(result)"
      ],
      "metadata": {
        "colab": {
          "base_uri": "https://localhost:8080/"
        },
        "id": "iXM9Wa2HkRLn",
        "outputId": "beac9832-4a89-4d7b-a0bf-572a3f9f415a"
      },
      "execution_count": 6,
      "outputs": [
        {
          "output_type": "stream",
          "name": "stdout",
          "text": [
            "6\n"
          ]
        }
      ]
    },
    {
      "cell_type": "markdown",
      "source": [
        "# **2.StructuredTool & Pydantic**"
      ],
      "metadata": {
        "id": "GNzT67Inknnz"
      }
    },
    {
      "cell_type": "code",
      "source": [
        "from langchain.tools import StructuredTool\n",
        "from pydantic import BaseModel,Field"
      ],
      "metadata": {
        "id": "7EXY7ZMekyqD"
      },
      "execution_count": 7,
      "outputs": []
    },
    {
      "cell_type": "code",
      "source": [
        "class Multiply_input(BaseModel):\n",
        "  a:int=Field(required=True,description='Input the first number'),\n",
        "  b:int=Field(required=True,description='Input the 2nd number')"
      ],
      "metadata": {
        "id": "Px_NsCCBoJbz"
      },
      "execution_count": 9,
      "outputs": []
    },
    {
      "cell_type": "code",
      "source": [
        "def multiply(a:int,b:int)->int:\n",
        "  return a*b"
      ],
      "metadata": {
        "id": "Qj5zuOXdozvO"
      },
      "execution_count": 11,
      "outputs": []
    },
    {
      "cell_type": "code",
      "source": [
        "multiply_tool=StructuredTool.from_function(\n",
        "    func=multiply,\n",
        "    name=\"multi\",\n",
        "    description=\"Multiply two numbers\",\n",
        "    arg_schema=Multiply_input\n",
        "\n",
        ")"
      ],
      "metadata": {
        "id": "UBpF57_ZpXWg"
      },
      "execution_count": 13,
      "outputs": []
    },
    {
      "cell_type": "code",
      "source": [
        "result=multiply_tool.invoke({'a':3,'b':1})\n",
        "print(result)"
      ],
      "metadata": {
        "colab": {
          "base_uri": "https://localhost:8080/"
        },
        "id": "ZDcXTq-8q87q",
        "outputId": "3c05de84-995b-46cd-84a9-0493495f6989"
      },
      "execution_count": 17,
      "outputs": [
        {
          "output_type": "stream",
          "name": "stdout",
          "text": [
            "3\n"
          ]
        }
      ]
    },
    {
      "cell_type": "markdown",
      "source": [
        "## **3. Using BaseTool**\n",
        "\n",
        "> Add blockquote\n",
        "\n"
      ],
      "metadata": {
        "id": "6_7fMAf2rJrP"
      }
    }
  ]
}