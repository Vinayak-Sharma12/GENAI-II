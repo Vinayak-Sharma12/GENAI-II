{
  "nbformat": 4,
  "nbformat_minor": 0,
  "metadata": {
    "colab": {
      "provenance": [],
      "authorship_tag": "ABX9TyP7xSrBquaKOcWMyiPulr3K",
      "include_colab_link": true
    },
    "kernelspec": {
      "name": "python3",
      "display_name": "Python 3"
    },
    "language_info": {
      "name": "python"
    }
  },
  "cells": [
    {
      "cell_type": "markdown",
      "metadata": {
        "id": "view-in-github",
        "colab_type": "text"
      },
      "source": [
        "<a href=\"https://colab.research.google.com/github/Vinayak-Sharma12/GENAI-II/blob/main/3_Retrievers(VectorStore%2BWiki).ipynb\" target=\"_parent\"><img src=\"https://colab.research.google.com/assets/colab-badge.svg\" alt=\"Open In Colab\"/></a>"
      ]
    },
    {
      "cell_type": "code",
      "execution_count": 54,
      "metadata": {
        "colab": {
          "base_uri": "https://localhost:8080/"
        },
        "id": "vIN33TEqrR1J",
        "outputId": "5f70b044-3021-482b-e8d4-a55c9b7bfd1d"
      },
      "outputs": [
        {
          "output_type": "stream",
          "name": "stdout",
          "text": [
            "Requirement already satisfied: langchain in /usr/local/lib/python3.11/dist-packages (0.3.24)\n",
            "Requirement already satisfied: langchain_community in /usr/local/lib/python3.11/dist-packages (0.3.22)\n",
            "Requirement already satisfied: pypdf in /usr/local/lib/python3.11/dist-packages (5.4.0)\n",
            "Requirement already satisfied: faiss-cpu in /usr/local/lib/python3.11/dist-packages (1.10.0)\n",
            "Requirement already satisfied: chromadb in /usr/local/lib/python3.11/dist-packages (1.0.7)\n",
            "Collecting wikipedia\n",
            "  Downloading wikipedia-1.4.0.tar.gz (27 kB)\n",
            "  Preparing metadata (setup.py) ... \u001b[?25l\u001b[?25hdone\n",
            "Requirement already satisfied: langchain-core<1.0.0,>=0.3.55 in /usr/local/lib/python3.11/dist-packages (from langchain) (0.3.55)\n",
            "Requirement already satisfied: langchain-text-splitters<1.0.0,>=0.3.8 in /usr/local/lib/python3.11/dist-packages (from langchain) (0.3.8)\n",
            "Requirement already satisfied: langsmith<0.4,>=0.1.17 in /usr/local/lib/python3.11/dist-packages (from langchain) (0.3.33)\n",
            "Requirement already satisfied: pydantic<3.0.0,>=2.7.4 in /usr/local/lib/python3.11/dist-packages (from langchain) (2.11.3)\n",
            "Requirement already satisfied: SQLAlchemy<3,>=1.4 in /usr/local/lib/python3.11/dist-packages (from langchain) (2.0.40)\n",
            "Requirement already satisfied: requests<3,>=2 in /usr/local/lib/python3.11/dist-packages (from langchain) (2.32.3)\n",
            "Requirement already satisfied: PyYAML>=5.3 in /usr/local/lib/python3.11/dist-packages (from langchain) (6.0.2)\n",
            "Requirement already satisfied: aiohttp<4.0.0,>=3.8.3 in /usr/local/lib/python3.11/dist-packages (from langchain_community) (3.11.15)\n",
            "Requirement already satisfied: tenacity!=8.4.0,<10,>=8.1.0 in /usr/local/lib/python3.11/dist-packages (from langchain_community) (9.1.2)\n",
            "Requirement already satisfied: dataclasses-json<0.7,>=0.5.7 in /usr/local/lib/python3.11/dist-packages (from langchain_community) (0.6.7)\n",
            "Requirement already satisfied: pydantic-settings<3.0.0,>=2.4.0 in /usr/local/lib/python3.11/dist-packages (from langchain_community) (2.9.1)\n",
            "Requirement already satisfied: httpx-sse<1.0.0,>=0.4.0 in /usr/local/lib/python3.11/dist-packages (from langchain_community) (0.4.0)\n",
            "Requirement already satisfied: numpy>=1.26.2 in /usr/local/lib/python3.11/dist-packages (from langchain_community) (2.0.2)\n",
            "Requirement already satisfied: packaging in /usr/local/lib/python3.11/dist-packages (from faiss-cpu) (24.2)\n",
            "Requirement already satisfied: build>=1.0.3 in /usr/local/lib/python3.11/dist-packages (from chromadb) (1.2.2.post1)\n",
            "Requirement already satisfied: chroma-hnswlib==0.7.6 in /usr/local/lib/python3.11/dist-packages (from chromadb) (0.7.6)\n",
            "Requirement already satisfied: fastapi==0.115.9 in /usr/local/lib/python3.11/dist-packages (from chromadb) (0.115.9)\n",
            "Requirement already satisfied: uvicorn>=0.18.3 in /usr/local/lib/python3.11/dist-packages (from uvicorn[standard]>=0.18.3->chromadb) (0.34.2)\n",
            "Requirement already satisfied: posthog>=2.4.0 in /usr/local/lib/python3.11/dist-packages (from chromadb) (4.0.0)\n",
            "Requirement already satisfied: typing-extensions>=4.5.0 in /usr/local/lib/python3.11/dist-packages (from chromadb) (4.13.2)\n",
            "Requirement already satisfied: onnxruntime>=1.14.1 in /usr/local/lib/python3.11/dist-packages (from chromadb) (1.21.1)\n",
            "Requirement already satisfied: opentelemetry-api>=1.2.0 in /usr/local/lib/python3.11/dist-packages (from chromadb) (1.32.1)\n",
            "Requirement already satisfied: opentelemetry-exporter-otlp-proto-grpc>=1.2.0 in /usr/local/lib/python3.11/dist-packages (from chromadb) (1.32.1)\n",
            "Requirement already satisfied: opentelemetry-instrumentation-fastapi>=0.41b0 in /usr/local/lib/python3.11/dist-packages (from chromadb) (0.53b1)\n",
            "Requirement already satisfied: opentelemetry-sdk>=1.2.0 in /usr/local/lib/python3.11/dist-packages (from chromadb) (1.32.1)\n",
            "Requirement already satisfied: tokenizers>=0.13.2 in /usr/local/lib/python3.11/dist-packages (from chromadb) (0.21.1)\n",
            "Requirement already satisfied: pypika>=0.48.9 in /usr/local/lib/python3.11/dist-packages (from chromadb) (0.48.9)\n",
            "Requirement already satisfied: tqdm>=4.65.0 in /usr/local/lib/python3.11/dist-packages (from chromadb) (4.67.1)\n",
            "Requirement already satisfied: overrides>=7.3.1 in /usr/local/lib/python3.11/dist-packages (from chromadb) (7.7.0)\n",
            "Requirement already satisfied: importlib-resources in /usr/local/lib/python3.11/dist-packages (from chromadb) (6.5.2)\n",
            "Requirement already satisfied: grpcio>=1.58.0 in /usr/local/lib/python3.11/dist-packages (from chromadb) (1.71.0)\n",
            "Requirement already satisfied: bcrypt>=4.0.1 in /usr/local/lib/python3.11/dist-packages (from chromadb) (4.3.0)\n",
            "Requirement already satisfied: typer>=0.9.0 in /usr/local/lib/python3.11/dist-packages (from chromadb) (0.15.2)\n",
            "Requirement already satisfied: kubernetes>=28.1.0 in /usr/local/lib/python3.11/dist-packages (from chromadb) (32.0.1)\n",
            "Requirement already satisfied: mmh3>=4.0.1 in /usr/local/lib/python3.11/dist-packages (from chromadb) (5.1.0)\n",
            "Requirement already satisfied: orjson>=3.9.12 in /usr/local/lib/python3.11/dist-packages (from chromadb) (3.10.16)\n",
            "Requirement already satisfied: httpx>=0.27.0 in /usr/local/lib/python3.11/dist-packages (from chromadb) (0.28.1)\n",
            "Requirement already satisfied: rich>=10.11.0 in /usr/local/lib/python3.11/dist-packages (from chromadb) (13.9.4)\n",
            "Requirement already satisfied: jsonschema>=4.19.0 in /usr/local/lib/python3.11/dist-packages (from chromadb) (4.23.0)\n",
            "Requirement already satisfied: starlette<0.46.0,>=0.40.0 in /usr/local/lib/python3.11/dist-packages (from fastapi==0.115.9->chromadb) (0.45.3)\n",
            "Requirement already satisfied: beautifulsoup4 in /usr/local/lib/python3.11/dist-packages (from wikipedia) (4.13.4)\n",
            "Requirement already satisfied: aiohappyeyeballs>=2.3.0 in /usr/local/lib/python3.11/dist-packages (from aiohttp<4.0.0,>=3.8.3->langchain_community) (2.6.1)\n",
            "Requirement already satisfied: aiosignal>=1.1.2 in /usr/local/lib/python3.11/dist-packages (from aiohttp<4.0.0,>=3.8.3->langchain_community) (1.3.2)\n",
            "Requirement already satisfied: attrs>=17.3.0 in /usr/local/lib/python3.11/dist-packages (from aiohttp<4.0.0,>=3.8.3->langchain_community) (25.3.0)\n",
            "Requirement already satisfied: frozenlist>=1.1.1 in /usr/local/lib/python3.11/dist-packages (from aiohttp<4.0.0,>=3.8.3->langchain_community) (1.6.0)\n",
            "Requirement already satisfied: multidict<7.0,>=4.5 in /usr/local/lib/python3.11/dist-packages (from aiohttp<4.0.0,>=3.8.3->langchain_community) (6.4.3)\n",
            "Requirement already satisfied: propcache>=0.2.0 in /usr/local/lib/python3.11/dist-packages (from aiohttp<4.0.0,>=3.8.3->langchain_community) (0.3.1)\n",
            "Requirement already satisfied: yarl<2.0,>=1.17.0 in /usr/local/lib/python3.11/dist-packages (from aiohttp<4.0.0,>=3.8.3->langchain_community) (1.20.0)\n",
            "Requirement already satisfied: pyproject_hooks in /usr/local/lib/python3.11/dist-packages (from build>=1.0.3->chromadb) (1.2.0)\n",
            "Requirement already satisfied: marshmallow<4.0.0,>=3.18.0 in /usr/local/lib/python3.11/dist-packages (from dataclasses-json<0.7,>=0.5.7->langchain_community) (3.26.1)\n",
            "Requirement already satisfied: typing-inspect<1,>=0.4.0 in /usr/local/lib/python3.11/dist-packages (from dataclasses-json<0.7,>=0.5.7->langchain_community) (0.9.0)\n",
            "Requirement already satisfied: anyio in /usr/local/lib/python3.11/dist-packages (from httpx>=0.27.0->chromadb) (4.9.0)\n",
            "Requirement already satisfied: certifi in /usr/local/lib/python3.11/dist-packages (from httpx>=0.27.0->chromadb) (2025.1.31)\n",
            "Requirement already satisfied: httpcore==1.* in /usr/local/lib/python3.11/dist-packages (from httpx>=0.27.0->chromadb) (1.0.8)\n",
            "Requirement already satisfied: idna in /usr/local/lib/python3.11/dist-packages (from httpx>=0.27.0->chromadb) (3.10)\n",
            "Requirement already satisfied: h11<0.15,>=0.13 in /usr/local/lib/python3.11/dist-packages (from httpcore==1.*->httpx>=0.27.0->chromadb) (0.14.0)\n",
            "Requirement already satisfied: jsonschema-specifications>=2023.03.6 in /usr/local/lib/python3.11/dist-packages (from jsonschema>=4.19.0->chromadb) (2024.10.1)\n",
            "Requirement already satisfied: referencing>=0.28.4 in /usr/local/lib/python3.11/dist-packages (from jsonschema>=4.19.0->chromadb) (0.36.2)\n",
            "Requirement already satisfied: rpds-py>=0.7.1 in /usr/local/lib/python3.11/dist-packages (from jsonschema>=4.19.0->chromadb) (0.24.0)\n",
            "Requirement already satisfied: six>=1.9.0 in /usr/local/lib/python3.11/dist-packages (from kubernetes>=28.1.0->chromadb) (1.17.0)\n",
            "Requirement already satisfied: python-dateutil>=2.5.3 in /usr/local/lib/python3.11/dist-packages (from kubernetes>=28.1.0->chromadb) (2.8.2)\n",
            "Requirement already satisfied: google-auth>=1.0.1 in /usr/local/lib/python3.11/dist-packages (from kubernetes>=28.1.0->chromadb) (2.38.0)\n",
            "Requirement already satisfied: websocket-client!=0.40.0,!=0.41.*,!=0.42.*,>=0.32.0 in /usr/local/lib/python3.11/dist-packages (from kubernetes>=28.1.0->chromadb) (1.8.0)\n",
            "Requirement already satisfied: requests-oauthlib in /usr/local/lib/python3.11/dist-packages (from kubernetes>=28.1.0->chromadb) (2.0.0)\n",
            "Requirement already satisfied: oauthlib>=3.2.2 in /usr/local/lib/python3.11/dist-packages (from kubernetes>=28.1.0->chromadb) (3.2.2)\n",
            "Requirement already satisfied: urllib3>=1.24.2 in /usr/local/lib/python3.11/dist-packages (from kubernetes>=28.1.0->chromadb) (2.3.0)\n",
            "Requirement already satisfied: durationpy>=0.7 in /usr/local/lib/python3.11/dist-packages (from kubernetes>=28.1.0->chromadb) (0.9)\n",
            "Requirement already satisfied: jsonpatch<2.0,>=1.33 in /usr/local/lib/python3.11/dist-packages (from langchain-core<1.0.0,>=0.3.55->langchain) (1.33)\n",
            "Requirement already satisfied: requests-toolbelt<2.0.0,>=1.0.0 in /usr/local/lib/python3.11/dist-packages (from langsmith<0.4,>=0.1.17->langchain) (1.0.0)\n",
            "Requirement already satisfied: zstandard<0.24.0,>=0.23.0 in /usr/local/lib/python3.11/dist-packages (from langsmith<0.4,>=0.1.17->langchain) (0.23.0)\n",
            "Requirement already satisfied: coloredlogs in /usr/local/lib/python3.11/dist-packages (from onnxruntime>=1.14.1->chromadb) (15.0.1)\n",
            "Requirement already satisfied: flatbuffers in /usr/local/lib/python3.11/dist-packages (from onnxruntime>=1.14.1->chromadb) (25.2.10)\n",
            "Requirement already satisfied: protobuf in /usr/local/lib/python3.11/dist-packages (from onnxruntime>=1.14.1->chromadb) (5.29.4)\n",
            "Requirement already satisfied: sympy in /usr/local/lib/python3.11/dist-packages (from onnxruntime>=1.14.1->chromadb) (1.13.1)\n",
            "Requirement already satisfied: deprecated>=1.2.6 in /usr/local/lib/python3.11/dist-packages (from opentelemetry-api>=1.2.0->chromadb) (1.2.18)\n",
            "Requirement already satisfied: importlib-metadata<8.7.0,>=6.0 in /usr/local/lib/python3.11/dist-packages (from opentelemetry-api>=1.2.0->chromadb) (8.6.1)\n",
            "Requirement already satisfied: googleapis-common-protos~=1.52 in /usr/local/lib/python3.11/dist-packages (from opentelemetry-exporter-otlp-proto-grpc>=1.2.0->chromadb) (1.70.0)\n",
            "Requirement already satisfied: opentelemetry-exporter-otlp-proto-common==1.32.1 in /usr/local/lib/python3.11/dist-packages (from opentelemetry-exporter-otlp-proto-grpc>=1.2.0->chromadb) (1.32.1)\n",
            "Requirement already satisfied: opentelemetry-proto==1.32.1 in /usr/local/lib/python3.11/dist-packages (from opentelemetry-exporter-otlp-proto-grpc>=1.2.0->chromadb) (1.32.1)\n",
            "Requirement already satisfied: opentelemetry-instrumentation-asgi==0.53b1 in /usr/local/lib/python3.11/dist-packages (from opentelemetry-instrumentation-fastapi>=0.41b0->chromadb) (0.53b1)\n",
            "Requirement already satisfied: opentelemetry-instrumentation==0.53b1 in /usr/local/lib/python3.11/dist-packages (from opentelemetry-instrumentation-fastapi>=0.41b0->chromadb) (0.53b1)\n",
            "Requirement already satisfied: opentelemetry-semantic-conventions==0.53b1 in /usr/local/lib/python3.11/dist-packages (from opentelemetry-instrumentation-fastapi>=0.41b0->chromadb) (0.53b1)\n",
            "Requirement already satisfied: opentelemetry-util-http==0.53b1 in /usr/local/lib/python3.11/dist-packages (from opentelemetry-instrumentation-fastapi>=0.41b0->chromadb) (0.53b1)\n",
            "Requirement already satisfied: wrapt<2.0.0,>=1.0.0 in /usr/local/lib/python3.11/dist-packages (from opentelemetry-instrumentation==0.53b1->opentelemetry-instrumentation-fastapi>=0.41b0->chromadb) (1.17.2)\n",
            "Requirement already satisfied: asgiref~=3.0 in /usr/local/lib/python3.11/dist-packages (from opentelemetry-instrumentation-asgi==0.53b1->opentelemetry-instrumentation-fastapi>=0.41b0->chromadb) (3.8.1)\n",
            "Requirement already satisfied: monotonic>=1.5 in /usr/local/lib/python3.11/dist-packages (from posthog>=2.4.0->chromadb) (1.6)\n",
            "Requirement already satisfied: backoff>=1.10.0 in /usr/local/lib/python3.11/dist-packages (from posthog>=2.4.0->chromadb) (2.2.1)\n",
            "Requirement already satisfied: distro>=1.5.0 in /usr/local/lib/python3.11/dist-packages (from posthog>=2.4.0->chromadb) (1.9.0)\n",
            "Requirement already satisfied: annotated-types>=0.6.0 in /usr/local/lib/python3.11/dist-packages (from pydantic<3.0.0,>=2.7.4->langchain) (0.7.0)\n",
            "Requirement already satisfied: pydantic-core==2.33.1 in /usr/local/lib/python3.11/dist-packages (from pydantic<3.0.0,>=2.7.4->langchain) (2.33.1)\n",
            "Requirement already satisfied: typing-inspection>=0.4.0 in /usr/local/lib/python3.11/dist-packages (from pydantic<3.0.0,>=2.7.4->langchain) (0.4.0)\n",
            "Requirement already satisfied: python-dotenv>=0.21.0 in /usr/local/lib/python3.11/dist-packages (from pydantic-settings<3.0.0,>=2.4.0->langchain_community) (1.1.0)\n",
            "Requirement already satisfied: charset-normalizer<4,>=2 in /usr/local/lib/python3.11/dist-packages (from requests<3,>=2->langchain) (3.4.1)\n",
            "Requirement already satisfied: markdown-it-py>=2.2.0 in /usr/local/lib/python3.11/dist-packages (from rich>=10.11.0->chromadb) (3.0.0)\n",
            "Requirement already satisfied: pygments<3.0.0,>=2.13.0 in /usr/local/lib/python3.11/dist-packages (from rich>=10.11.0->chromadb) (2.18.0)\n",
            "Requirement already satisfied: greenlet>=1 in /usr/local/lib/python3.11/dist-packages (from SQLAlchemy<3,>=1.4->langchain) (3.2.1)\n",
            "Requirement already satisfied: huggingface-hub<1.0,>=0.16.4 in /usr/local/lib/python3.11/dist-packages (from tokenizers>=0.13.2->chromadb) (0.30.2)\n",
            "Requirement already satisfied: click>=8.0.0 in /usr/local/lib/python3.11/dist-packages (from typer>=0.9.0->chromadb) (8.1.8)\n",
            "Requirement already satisfied: shellingham>=1.3.0 in /usr/local/lib/python3.11/dist-packages (from typer>=0.9.0->chromadb) (1.5.4)\n",
            "Requirement already satisfied: httptools>=0.6.3 in /usr/local/lib/python3.11/dist-packages (from uvicorn[standard]>=0.18.3->chromadb) (0.6.4)\n",
            "Requirement already satisfied: uvloop!=0.15.0,!=0.15.1,>=0.14.0 in /usr/local/lib/python3.11/dist-packages (from uvicorn[standard]>=0.18.3->chromadb) (0.21.0)\n",
            "Requirement already satisfied: watchfiles>=0.13 in /usr/local/lib/python3.11/dist-packages (from uvicorn[standard]>=0.18.3->chromadb) (1.0.5)\n",
            "Requirement already satisfied: websockets>=10.4 in /usr/local/lib/python3.11/dist-packages (from uvicorn[standard]>=0.18.3->chromadb) (15.0.1)\n",
            "Requirement already satisfied: soupsieve>1.2 in /usr/local/lib/python3.11/dist-packages (from beautifulsoup4->wikipedia) (2.7)\n",
            "Requirement already satisfied: cachetools<6.0,>=2.0.0 in /usr/local/lib/python3.11/dist-packages (from google-auth>=1.0.1->kubernetes>=28.1.0->chromadb) (5.5.2)\n",
            "Requirement already satisfied: pyasn1-modules>=0.2.1 in /usr/local/lib/python3.11/dist-packages (from google-auth>=1.0.1->kubernetes>=28.1.0->chromadb) (0.4.2)\n",
            "Requirement already satisfied: rsa<5,>=3.1.4 in /usr/local/lib/python3.11/dist-packages (from google-auth>=1.0.1->kubernetes>=28.1.0->chromadb) (4.9.1)\n",
            "Requirement already satisfied: filelock in /usr/local/lib/python3.11/dist-packages (from huggingface-hub<1.0,>=0.16.4->tokenizers>=0.13.2->chromadb) (3.18.0)\n",
            "Requirement already satisfied: fsspec>=2023.5.0 in /usr/local/lib/python3.11/dist-packages (from huggingface-hub<1.0,>=0.16.4->tokenizers>=0.13.2->chromadb) (2025.3.2)\n",
            "Requirement already satisfied: zipp>=3.20 in /usr/local/lib/python3.11/dist-packages (from importlib-metadata<8.7.0,>=6.0->opentelemetry-api>=1.2.0->chromadb) (3.21.0)\n",
            "Requirement already satisfied: jsonpointer>=1.9 in /usr/local/lib/python3.11/dist-packages (from jsonpatch<2.0,>=1.33->langchain-core<1.0.0,>=0.3.55->langchain) (3.0.0)\n",
            "Requirement already satisfied: mdurl~=0.1 in /usr/local/lib/python3.11/dist-packages (from markdown-it-py>=2.2.0->rich>=10.11.0->chromadb) (0.1.2)\n",
            "Requirement already satisfied: sniffio>=1.1 in /usr/local/lib/python3.11/dist-packages (from anyio->httpx>=0.27.0->chromadb) (1.3.1)\n",
            "Requirement already satisfied: mypy-extensions>=0.3.0 in /usr/local/lib/python3.11/dist-packages (from typing-inspect<1,>=0.4.0->dataclasses-json<0.7,>=0.5.7->langchain_community) (1.1.0)\n",
            "Requirement already satisfied: humanfriendly>=9.1 in /usr/local/lib/python3.11/dist-packages (from coloredlogs->onnxruntime>=1.14.1->chromadb) (10.0)\n",
            "Requirement already satisfied: mpmath<1.4,>=1.1.0 in /usr/local/lib/python3.11/dist-packages (from sympy->onnxruntime>=1.14.1->chromadb) (1.3.0)\n",
            "Requirement already satisfied: pyasn1<0.7.0,>=0.6.1 in /usr/local/lib/python3.11/dist-packages (from pyasn1-modules>=0.2.1->google-auth>=1.0.1->kubernetes>=28.1.0->chromadb) (0.6.1)\n",
            "Building wheels for collected packages: wikipedia\n",
            "  Building wheel for wikipedia (setup.py) ... \u001b[?25l\u001b[?25hdone\n",
            "  Created wheel for wikipedia: filename=wikipedia-1.4.0-py3-none-any.whl size=11678 sha256=65ae49aa5f11072a680aa7576fe6f8d740dc4de28a2a1e2c675d5befc6d8704f\n",
            "  Stored in directory: /root/.cache/pip/wheels/8f/ab/cb/45ccc40522d3a1c41e1d2ad53b8f33a62f394011ec38cd71c6\n",
            "Successfully built wikipedia\n",
            "Installing collected packages: wikipedia\n",
            "Successfully installed wikipedia-1.4.0\n"
          ]
        }
      ],
      "source": [
        "!pip install langchain langchain_community pypdf faiss-cpu chromadb wikipedia"
      ]
    },
    {
      "cell_type": "code",
      "source": [
        "from langchain.schema import Document"
      ],
      "metadata": {
        "id": "F58jmn5JusWb"
      },
      "execution_count": 22,
      "outputs": []
    },
    {
      "cell_type": "code",
      "source": [
        "# Step 1: Your source documents\n",
        "documents = [\n",
        "    Document(page_content=\"LangChain helps developers build LLM applications easily.\"),\n",
        "    Document(page_content=\"Chroma is a vector database optimized for LLM-based search.\"),\n",
        "    Document(page_content=\"Embeddings convert text into high-dimensional vectors.\"),\n",
        "    Document(page_content=\"OpenAI provides powerful embedding models.\"),\n",
        "]"
      ],
      "metadata": {
        "id": "Wnry6MWfuqA6"
      },
      "execution_count": 23,
      "outputs": []
    },
    {
      "cell_type": "markdown",
      "source": [
        "### **VECTOR STORE AS RETRIEVER(FAISS)**"
      ],
      "metadata": {
        "id": "8Slp3gK3sCbq"
      }
    },
    {
      "cell_type": "code",
      "source": [
        "from langchain.vectorstores import FAISS\n",
        "from langchain.embeddings import HuggingFaceEmbeddings"
      ],
      "metadata": {
        "id": "cWYCtM2UsI2F"
      },
      "execution_count": 24,
      "outputs": []
    },
    {
      "cell_type": "code",
      "source": [
        "embeddings=HuggingFaceEmbeddings(model_name='sentence-transformers/all-mpnet-base-v2')"
      ],
      "metadata": {
        "id": "VGYRvvhysWNm"
      },
      "execution_count": 25,
      "outputs": []
    },
    {
      "cell_type": "code",
      "source": [
        "vector_store=FAISS.from_documents(documents,embeddings) #Crea"
      ],
      "metadata": {
        "id": "WJSn6UUnskPg"
      },
      "execution_count": 26,
      "outputs": []
    },
    {
      "cell_type": "code",
      "source": [
        "retriever=vector_store.as_retriever(search_kwargs={'k':2})"
      ],
      "metadata": {
        "id": "r21-UEshsrXz"
      },
      "execution_count": 38,
      "outputs": []
    },
    {
      "cell_type": "code",
      "source": [
        "query='what is  Langchain'\n",
        "result=retriever.invoke(query)"
      ],
      "metadata": {
        "id": "sVoWjc6ktHcp"
      },
      "execution_count": 39,
      "outputs": []
    },
    {
      "cell_type": "code",
      "source": [
        "result"
      ],
      "metadata": {
        "colab": {
          "base_uri": "https://localhost:8080/"
        },
        "id": "P7HG8u2fu7SL",
        "outputId": "55f7705a-0d7d-44ae-ae4e-154818c2174f"
      },
      "execution_count": 40,
      "outputs": [
        {
          "output_type": "execute_result",
          "data": {
            "text/plain": [
              "[Document(id='a9b4b44f-6dc8-49d8-a0f9-bbab93d5805e', metadata={}, page_content='LangChain helps developers build LLM applications easily.'),\n",
              " Document(id='75a8f479-7303-4593-a67b-21f56afa4685', metadata={}, page_content='Embeddings convert text into high-dimensional vectors.')]"
            ]
          },
          "metadata": {},
          "execution_count": 40
        }
      ]
    },
    {
      "cell_type": "markdown",
      "source": [
        "### **VECTOR STORE AS RETRIEVER(CHROMA DB)**"
      ],
      "metadata": {
        "id": "-xfq-jONvIUz"
      }
    },
    {
      "cell_type": "code",
      "source": [
        "from langchain.vectorstores import Chroma\n",
        "vectorstore = Chroma(embedding_function=embeddings, persist_directory=\"db\",collection_name='yemple')\n",
        "vectorstore.add_documents(documents)\n",
        "retriever=vectorstore.as_retriever(search_kwargs={'k':2})\n",
        "result=retriever.invoke('What is Langchain')"
      ],
      "metadata": {
        "id": "fQ0KUZODvQtg"
      },
      "execution_count": 45,
      "outputs": []
    },
    {
      "cell_type": "code",
      "source": [
        "result"
      ],
      "metadata": {
        "colab": {
          "base_uri": "https://localhost:8080/"
        },
        "id": "aPxdCOnewc-T",
        "outputId": "d7f20f80-e4da-44df-abb6-a0a623c4b1a1"
      },
      "execution_count": 51,
      "outputs": [
        {
          "output_type": "execute_result",
          "data": {
            "text/plain": [
              "[Document(metadata={}, page_content='LangChain helps developers build LLM applications easily.'),\n",
              " Document(metadata={}, page_content='Embeddings convert text into high-dimensional vectors.')]"
            ]
          },
          "metadata": {},
          "execution_count": 51
        }
      ]
    },
    {
      "cell_type": "markdown",
      "source": [
        "### **WIKIPEDIA RETRIEVER**"
      ],
      "metadata": {
        "id": "HCmGKtPSwsis"
      }
    },
    {
      "cell_type": "code",
      "source": [
        "from langchain.retrievers import WikipediaRetriever"
      ],
      "metadata": {
        "id": "mYvdVQAJwv16"
      },
      "execution_count": 52,
      "outputs": []
    },
    {
      "cell_type": "code",
      "source": [
        "wiki=WikipediaRetriever(top_k_results=3,lang='en')"
      ],
      "metadata": {
        "id": "-Yon-nskw0-0"
      },
      "execution_count": 55,
      "outputs": []
    },
    {
      "cell_type": "code",
      "source": [
        "result=wiki.invoke('Who is Arijit Singh')"
      ],
      "metadata": {
        "id": "cbxstCZOxIV6"
      },
      "execution_count": 68,
      "outputs": []
    },
    {
      "cell_type": "code",
      "source": [
        "result"
      ],
      "metadata": {
        "colab": {
          "base_uri": "https://localhost:8080/"
        },
        "id": "56s6ihLgxOLT",
        "outputId": "79e4cc0f-a011-49be-b871-0c709653b085"
      },
      "execution_count": 69,
      "outputs": [
        {
          "output_type": "execute_result",
          "data": {
            "text/plain": [
              "[Document(metadata={'title': 'Arijit Singh', 'summary': 'Arijit Singh (Bengali pronunciation: [ɔrid͡ʒit ʃiŋho]; born 25 April 1987) is an Indian playback singer. A leading figure in contemporary Hindi film music, he is the recipient of several accolades including two National Film Awards and seven Filmfare Awards. He was conferred the Padma Shri by the Government of India in 2025. \\nSingh began his career when he participated in the reality show Fame Gurukul in 2005. He made his Hindi cinema debut in 2011 with the song \"Phir Mohabbat\" for the film Murder 2. He received wider recognition with the release of \"Tum Hi Ho\" from Aashiqui 2 in 2013, which earned him his first Filmfare Award for Best Male Playback Singer. He won the National Film Award for Best Male Playback Singer twice for the songs \"Binte Dil\" from Padmaavat (2018) and \"Kesariya\" from Brahmāstra: Part One – Shiva (2022).\\nSpotify declared Singh the most-streamed Indian artist for five consecutive years (2020–2024). As of April 2025, he is the most-followed artist globally on Spotify, with over 142 million followers.', 'source': 'https://en.wikipedia.org/wiki/Arijit_Singh'}, page_content='Arijit Singh (Bengali pronunciation: [ɔrid͡ʒit ʃiŋho]; born 25 April 1987) is an Indian playback singer. A leading figure in contemporary Hindi film music, he is the recipient of several accolades including two National Film Awards and seven Filmfare Awards. He was conferred the Padma Shri by the Government of India in 2025. \\nSingh began his career when he participated in the reality show Fame Gurukul in 2005. He made his Hindi cinema debut in 2011 with the song \"Phir Mohabbat\" for the film Murder 2. He received wider recognition with the release of \"Tum Hi Ho\" from Aashiqui 2 in 2013, which earned him his first Filmfare Award for Best Male Playback Singer. He won the National Film Award for Best Male Playback Singer twice for the songs \"Binte Dil\" from Padmaavat (2018) and \"Kesariya\" from Brahmāstra: Part One – Shiva (2022).\\nSpotify declared Singh the most-streamed Indian artist for five consecutive years (2020–2024). As of April 2025, he is the most-followed artist globally on Spotify, with over 142 million followers.\\n\\n\\n== Early life ==\\nArijit Singh was born on 25 April 1987 in Jiaganj, Murshidabad, West Bengal to Kakkar Singh, a Punjabi Sikh father and Aditi Singh, a Bengali Hindu mother. His paternal family came from Lahore during the Partition. He began his music training at a very young age at home. His maternal aunt trained in Indian classical music, and his maternal grandmother used to sing. His maternal uncle played the tabla, and his mother also sang and played the tabla. He studied at Raja Bijay Singh High School and later at the Sripat Singh College, a University of Kalyani affiliate. According to him he \"was a decent student, but cared more about music\" and his parents decided to train him professionally. He was taught Indian classical music by Rajendra Prasad Hazari and trained in tabla by Dhirendra Prasad Hazari. Birendra Prasad Hazari taught him Rabindra Sangeet (songs written and composed by Rabindranath Tagore) and pop music. At the age of three, he started training under the Hazari brothers, and at the age of nine, he got a scholarship from the government for training in vocals in Indian classical music.\\nGrowing up, he listened to Mozart, Beethoven and Bengali classical music. He idolised musicians like Bade Ghulam Ali Khan, Ustad Rashid Khan, Zakir Hussain and Anand Chatterjee, and enjoyed listening to Kishore Kumar, Hemant Kumar, and Manna Dey.\\n\\n\\n== Career ==\\n\\n\\n=== Career beginnings (2005–2009) ===\\nSingh\\'s musical career began when his guru Rajendra Prasad Hazari, who felt that \"Indian classical music was a dying tradition\", insisted him to leave his hometown and participate in the reality show Fame Gurukul (2005) at the age of 18. He was eliminated by audience polling, finishing in sixth place.\\nDuring the show, filmmaker Sanjay Leela Bhansali recognised his talent and had him sing \"Yun Shabnami\" a song scheduled to be used in his upcoming film Saawariya. During production, the script was changed and Singh\\'s version was removed. It was never released. After the Fame Gurukul, Kumar Taurani, the head of Tips, signed him for an album which was never released.\\nHe participated in another reality show 10 Ke 10 Le Gaye Dil and won. He chose to move to Mumbai in 2006 to freelance, staying in a rented room in the Lokhandwala area of the city. He invested the prize money of ₹1 million from 10 ke 10 Le Gaye Dil to build his recording studio. He became a music producer and began composing music and singing pieces for advertisements, news channels and radio stations.\\nSingh spent a part of his early musical career as a music programmer and music producer for music directors such as Shankar–Ehsaan–Loy, Vishal–Shekhar, Mithoon, Monty Sharma and Pritam. While working with other composers he supervised the vocals, and the chorus sections, but it was while working with Pritam, that he began to produce and programme music by himself.\\n\\n\\n=== 2010–13: Early releases and Aashiqui 2 ===\\nIn 2010, Singh started working with Pritam o'),\n",
              " Document(metadata={'title': 'List of awards and nominations received by Arijit Singh', 'summary': 'Arijit Singh has received most awards and nominations for the song \"Tum Hi Ho\" in Aashiqui 2 (2013). He received 9 awards from 10 nominations for this song.\\nArijit lent his voice for Pritam-composed 2012 film Barfi! and Vishal–Shekhar-composed Shanghai, where the former fetched him Mirchi Music Award for Upcoming Male Vocalist of The Year award and was nominated, in the same category for the latter.\\n2013 was the most successful year for Singh where he received numerous praise and awards for his chartbuster song \"Tum Hi Ho\" in Aashiqui 2. The song fetched him, his first Filmfare, IIFA, Zee Cine and Screen Awards with several other accolades. For the song \"Laal Ishq\" from Sanjay Leela Bhansali\\'s Goliyon Ki Raasleela Ram-Leela he received a nomination at the GiMA Awards.\\nIn 2014 Singh received 2 nominations in Filmfare Awards for songs \"Mast Magan\" and \"Suno Na Sangemarmar\" respectively. He won the GiMA award for the song \"Muskurane\". He also received several nominations for songs like \"Palat\", \"Humdard\" and many more. This year he received his first Filmfare Awards South Nomination in the Telugu Cinema category for the song \"Kanulanu Thake\" from the movie Manam. He also received nomination in South Indian International Movie Awards for the song \"Kanulanu Thake\"\\n2015 was also a successful year for him. This year so many of his songs were chartbusters. In this year he received his second Filmfare Awards for the song \"Sooraj Dooba Hain\", he was also nominated for the song \"Gerua\" in the same category. He also received Guild Awards for the song \"Hamari Adhuri Kahani\". He also won his second Zee Cine Awards for the song \"Sooraj Dooba Hain\" which he shared along with Mohit Chauhan who won the award for the song \"Matargasthi\". He has also received Mirchi Music Awards Bangla for the second time for the song \"Ke Tui Bol\" from the film Herogiri.He also received Best Playback Singer Male Award in the Star Screen Awards and Filmfare Awards 2019 for the song \"Ae Watan\" from the film Raazi.\\nHe received his first National Film Awards for the song \"Binte Dil\" from Padmaavat in 2019 for Best Male Playback Singer. He was honoured with the Padma Shri in January 2025 for his contributions in the field of Indian music.', 'source': 'https://en.wikipedia.org/wiki/List_of_awards_and_nominations_received_by_Arijit_Singh'}, page_content='Arijit Singh has received most awards and nominations for the song \"Tum Hi Ho\" in Aashiqui 2 (2013). He received 9 awards from 10 nominations for this song.\\nArijit lent his voice for Pritam-composed 2012 film Barfi! and Vishal–Shekhar-composed Shanghai, where the former fetched him Mirchi Music Award for Upcoming Male Vocalist of The Year award and was nominated, in the same category for the latter.\\n2013 was the most successful year for Singh where he received numerous praise and awards for his chartbuster song \"Tum Hi Ho\" in Aashiqui 2. The song fetched him, his first Filmfare, IIFA, Zee Cine and Screen Awards with several other accolades. For the song \"Laal Ishq\" from Sanjay Leela Bhansali\\'s Goliyon Ki Raasleela Ram-Leela he received a nomination at the GiMA Awards.\\nIn 2014 Singh received 2 nominations in Filmfare Awards for songs \"Mast Magan\" and \"Suno Na Sangemarmar\" respectively. He won the GiMA award for the song \"Muskurane\". He also received several nominations for songs like \"Palat\", \"Humdard\" and many more. This year he received his first Filmfare Awards South Nomination in the Telugu Cinema category for the song \"Kanulanu Thake\" from the movie Manam. He also received nomination in South Indian International Movie Awards for the song \"Kanulanu Thake\"\\n2015 was also a successful year for him. This year so many of his songs were chartbusters. In this year he received his second Filmfare Awards for the song \"Sooraj Dooba Hain\", he was also nominated for the song \"Gerua\" in the same category. He also received Guild Awards for the song \"Hamari Adhuri Kahani\". He also won his second Zee Cine Awards for the song \"Sooraj Dooba Hain\" which he shared along with Mohit Chauhan who won the award for the song \"Matargasthi\". He has also received Mirchi Music Awards Bangla for the second time for the song \"Ke Tui Bol\" from the film Herogiri.He also received Best Playback Singer Male Award in the Star Screen Awards and Filmfare Awards 2019 for the song \"Ae Watan\" from the film Raazi.\\nHe received his first National Film Awards for the song \"Binte Dil\" from Padmaavat in 2019 for Best Male Playback Singer. He was honoured with the Padma Shri in January 2025 for his contributions in the field of Indian music.\\n\\n\\n== BIG Star Entertainment Awards ==\\nThe Big Entertainment Awards are presented annually by Reliance Broadcast Network Limited in association with Star India to honour personalities from the field of entertainment across movies, music, television, sports, theater and dance. Singh has received 7 nominations in the category Most Entertaining Singer Male but never won.\\n\\n\\n== Bollywood Hungama Surfer\\'s Choice Music Awards ==\\nBollywood Hungama Surfer\\'s Choice Music Awards were presented by Bollywood Hungama to honour the musical work of the artists throughout the year. The winners have been selected based on the number of votes acquired by each of the contenders. These awards have been discontinued after 2015. Singh has received two awards from three nominations in the category Best Male Playback Singer.\\n\\n\\n== Filmfare Awards ==\\nThe Filmfare Awards are one of the oldest and most prestigious Hindi film awards. They are presented annually by The Times Group for excellence of cinematic achievements. Singh has won 7 Best Male Playback Singer awards from 23 nominations.\\n\\n\\n== Filmfare Awards Bangla ==\\nThe Filmfare Awards Bangla (previously Filmfare Awards East) is the Bengali segment of the annual Filmfare Awards, presented by The Times Group to honour both artistic and technical excellence of professionals in the Bengali cinema. Singh has received record 3 Best Male Playback Singer award from record 12 nominations.\\n\\n\\n== Filmfare Awards South ==\\nThe Filmfare Awards South is the South Indian segment of the annual Filmfare Awards, presented by The Times Group to honour both artistic and technical excellence of professionals in the South Indian film industry.\\n\\n\\n=== Telugu ===\\nSingh has received one Telugu Best Playback Singer nomination without winn'),\n",
              " Document(metadata={'title': 'Muskurane', 'summary': 'Muskurane (transl.\\u2009Smile) is a romantic song from the 2014 film, CityLights. Composed by Jeet Gannguli, the song is sung by Arijit Singh, with lyrics penned by Rashmi Singh. The music video of the track features actors Rajkummar Rao, Patralekha and Arijit Singh.', 'source': 'https://en.wikipedia.org/wiki/Muskurane'}, page_content='Muskurane (transl.\\u2009Smile) is a romantic song from the 2014 film, CityLights. Composed by Jeet Gannguli, the song is sung by Arijit Singh, with lyrics penned by Rashmi Singh. The music video of the track features actors Rajkummar Rao, Patralekha and Arijit Singh.\\n\\n\\n== Background ==\\nThe song was composed by Jeet Gannguli with lyrics written by Rashmi Singh. The song was the last composed track from the album. The producer of the song Mukesh Bhatt wanted an \\'easy to hum but with depth\\' melodic song. It was, Ganguly\\'s wife Chandrani who found the composition \\'fantastic\\' while Ganguly was strumming his guitar. Immediately, he called Bhatt and played the \\'mukhda\\' to him which he liked instantly. The following day, Ganguly composed the \\'antara\\' of the song and played it to Bhatt and director of the film Hansal Mehta, which they loved on hearing.\\nRashmi Singh wrote the opening lines of the song in a few hours. According to Ganguly \"Citylights is not a teenage love story, it\\'s about a couple whose love has depth and character. Rashmi\\'s lyrics are simple, heartfelt and conversational\". The song was recorded at Phatbox Studio, Mumbai, at night. The song was recorded in two to three hours.\\nThe song is a guitar-based song which fuse a Bengali folk idiom with modern music in a Sufism touch. Piano was dominantly used in composition of the song with additional use of Violin in the first antara and Esraj in the second antara.\\n\\n\\n== Release and success ==\\nThe song was released in Indian Television show Beintehaa which airs on Colors TV, before releasing it on any music channel. It was released on 2 May 2014. The video of the song was officially released on the same day through the YouTube channel of Sony Music India. The video features Arijit Singh as well as select scenes from the film. The full song was also released as a single, the same day.\\nDuring the released days, the song was positioned in many charts, and was one of the most downloaded songs during that time.\\n\\n\\n== Critical reception ==\\nThe song received positive response from the critics.\\nRajiv Vijayakar from Bollywood Hungama praised Singh\\'s rendition in the song for bringing the right haunting tenor and right emotion in the song. Priya Adivarekar reviewing from Indian Express complimented vocals in the song and further stated \"The melody is soothing and Rashmi\\'s poetic lyrics perfectly suit the brilliantly-composed romantic track\". Joginder Tuteja reviewing for Rediff.com described the song as \"lyrical and poetic with a lot of fluidity\".\\n\\n\\n== Unplugged Version ==\\nAn unplugged version of the song was included in the soundtrack, composed and written by Jeet Gannguli and Rashmi Singh respectively. The song is sung by Mohammad Irfan Ali. The song was released along with other tracks in the soundtrack of the album on 9 May 2014.\\n\\n\\n=== Background ===\\nDirector of the film, Hansal Mehta wanted to incorporate two versions of the song. The romantic version being sung by Arijit Singh, the composer of the song Jeet Ganguly picked Mohammad Irfan Ali to sing the unplugged version. The song was recorded at Phatbox Studio, Mumbai. The song was recorded in two to three hours.\\nThe lyrics of the song was slightly changed, when compared to the original song. Piano and Violin were used in the composition unlike the version rendered by Singh which used Esraj in the second antara.\\n\\n\\n=== Critical reception ===\\nJoginder Tuteja reviewing for Rediff.com felt the version is \"equally enjoyable\" as of the original. Rajiv Vijayakar from Bollywood Hungama felt this version lacks the \\'vital small nuances\\' in the vocals which make the crucial difference compared to the romantic version of the song, though Priya Adivarekar reviewing from Indian Express felt the version of the song is \"also good\".\\n\\n\\n== Live performances ==\\nArijit Singh performed the song \"Muskurane\" in many of his concerts.\\nOn 29 November 2014, Singh performed the song in The Times of India presented \"NOBO – Atif Aslam & Arijit Singh Live in Concert\" he')]"
            ]
          },
          "metadata": {},
          "execution_count": 69
        }
      ]
    }
  ]
}