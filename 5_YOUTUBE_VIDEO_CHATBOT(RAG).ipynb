{
  "nbformat": 4,
  "nbformat_minor": 0,
  "metadata": {
    "colab": {
      "provenance": [],
      "authorship_tag": "ABX9TyPbP4G2hmyhv69nLU6+QXFd",
      "include_colab_link": true
    },
    "kernelspec": {
      "name": "python3",
      "display_name": "Python 3"
    },
    "language_info": {
      "name": "python"
    }
  },
  "cells": [
    {
      "cell_type": "markdown",
      "metadata": {
        "id": "view-in-github",
        "colab_type": "text"
      },
      "source": [
        "<a href=\"https://colab.research.google.com/github/Vinayak-Sharma12/GENAI-II/blob/main/5_YOUTUBE_VIDEO_CHATBOT(RAG).ipynb\" target=\"_parent\"><img src=\"https://colab.research.google.com/assets/colab-badge.svg\" alt=\"Open In Colab\"/></a>"
      ]
    },
    {
      "cell_type": "code",
      "source": [
        "!pip install -q langchain langchain_community langchain_groq  faiss-cpu youtube-transcript-api"
      ],
      "metadata": {
        "id": "FKMOyFI0B6MF"
      },
      "execution_count": null,
      "outputs": []
    },
    {
      "cell_type": "markdown",
      "source": [
        "### **YOUTUBE VIDEO TRANSCRIPT**"
      ],
      "metadata": {
        "id": "tZxBjof9CS0H"
      }
    },
    {
      "cell_type": "code",
      "source": [
        "from youtube_transcript_api import YouTubeTranscriptApi,TranscriptsDisabled"
      ],
      "metadata": {
        "id": "ONGApHACCaxu"
      },
      "execution_count": null,
      "outputs": []
    },
    {
      "cell_type": "code",
      "source": [
        "url='https://www.youtube.com/watch?v=Pk2BeaGbcTE'\n",
        "splits=url.split('v=')"
      ],
      "metadata": {
        "id": "2xQwLreGQlgm"
      },
      "execution_count": null,
      "outputs": []
    },
    {
      "cell_type": "code",
      "source": [
        "splits"
      ],
      "metadata": {
        "id": "D2RmHYxHQtKI"
      },
      "execution_count": null,
      "outputs": []
    },
    {
      "cell_type": "code",
      "source": [
        "splits[1]"
      ],
      "metadata": {
        "id": "OamteukwRD7s"
      },
      "execution_count": null,
      "outputs": []
    },
    {
      "cell_type": "code",
      "source": [
        "video_id = \"Gfr50f6ZBvo\" # only the ID, not full URL\n",
        "try:\n",
        "    # If you don’t care which language, this returns the “best” one\n",
        "    transcript_list = YouTubeTranscriptApi.get_transcript(video_id, languages=[\"en\"])\n",
        "\n",
        "    # Flatten it to plain text\n",
        "    transcript = \" \".join(chunk[\"text\"] for chunk in transcript_list)\n",
        "    print(transcript)\n",
        "\n",
        "except TranscriptsDisabled:\n",
        "    print(\"No captions available for this video.\")"
      ],
      "metadata": {
        "id": "jBGBH7MtCXOX"
      },
      "execution_count": null,
      "outputs": []
    },
    {
      "cell_type": "code",
      "source": [
        "transcript_list"
      ],
      "metadata": {
        "id": "j4HbFX8iCpoz"
      },
      "execution_count": null,
      "outputs": []
    },
    {
      "cell_type": "code",
      "source": [
        "transcript"
      ],
      "metadata": {
        "id": "GwBbQDjxDZ7Z"
      },
      "execution_count": null,
      "outputs": []
    },
    {
      "cell_type": "code",
      "source": [
        "len(transcript)"
      ],
      "metadata": {
        "id": "3x16VfizCyYe"
      },
      "execution_count": null,
      "outputs": []
    },
    {
      "cell_type": "markdown",
      "source": [
        "### **TEXT SPLITTING**"
      ],
      "metadata": {
        "id": "uDKMYL2jC1lr"
      }
    },
    {
      "cell_type": "code",
      "source": [
        "from langchain.text_splitter import RecursiveCharacterTextSplitter\n",
        "splitter=RecursiveCharacterTextSplitter(chunk_size=1000,chunk_overlap=200)\n",
        "chunks = splitter.create_documents([transcript])"
      ],
      "metadata": {
        "id": "Pa_WCjznDCtv"
      },
      "execution_count": null,
      "outputs": []
    },
    {
      "cell_type": "code",
      "source": [
        "len(chunks)"
      ],
      "metadata": {
        "id": "hlRCcGBODfLn"
      },
      "execution_count": null,
      "outputs": []
    },
    {
      "cell_type": "markdown",
      "source": [
        "### **VECTOR STORE(FAISS)**"
      ],
      "metadata": {
        "id": "ZfD16whbDiO9"
      }
    },
    {
      "cell_type": "markdown",
      "source": [
        "FAISS WORKING(Important):\n",
        "\n",
        "        So we have chunks as document object which have page_content and\n",
        "        metadata and now when we use FAISS vector store what it do is it stores\n",
        "        the embeddings of each chunk and gives each chunk unique id to that\n",
        "        chunk but don't append that it in chunk but when we try to retrieve\n",
        "        from FAISS vector storee it returns a document object with page_content,\n",
        "        meta data (by getting it from chunks): and unique id"
      ],
      "metadata": {
        "id": "03LdosnqJQN-"
      }
    },
    {
      "cell_type": "code",
      "source": [
        "from langchain.vectorstores import FAISS\n",
        "from langchain.embeddings import HuggingFaceEmbeddings"
      ],
      "metadata": {
        "id": "m2gfJzwjDw21"
      },
      "execution_count": null,
      "outputs": []
    },
    {
      "cell_type": "code",
      "source": [
        "embeddings=HuggingFaceEmbeddings(model_name='sentence-transformers/all-mpnet-base-v2')"
      ],
      "metadata": {
        "id": "fzHPUrRhD_t1"
      },
      "execution_count": null,
      "outputs": []
    },
    {
      "cell_type": "code",
      "source": [
        "vector_store=FAISS.from_documents(chunks,embeddings)"
      ],
      "metadata": {
        "id": "I8XpQq12EhrG"
      },
      "execution_count": null,
      "outputs": []
    },
    {
      "cell_type": "code",
      "source": [
        "vector_store.index_to_docstore_id"
      ],
      "metadata": {
        "id": "jbvYvamOF6p-"
      },
      "execution_count": null,
      "outputs": []
    },
    {
      "cell_type": "code",
      "source": [
        "len(vector_store.index_to_docstore_id)"
      ],
      "metadata": {
        "id": "ExEw9dgUFq5z"
      },
      "execution_count": null,
      "outputs": []
    },
    {
      "cell_type": "code",
      "source": [
        "vector_store.get_by_ids(['e6f3e5af-b1cc-42b4-833c-1a029133e9f5'])"
      ],
      "metadata": {
        "id": "MwhzetnvF-tF"
      },
      "execution_count": null,
      "outputs": []
    },
    {
      "cell_type": "code",
      "source": [
        "chunks[0]"
      ],
      "metadata": {
        "id": "I3QcsIWiGxag"
      },
      "execution_count": null,
      "outputs": []
    },
    {
      "cell_type": "markdown",
      "source": [
        "### **RETRIEVER**"
      ],
      "metadata": {
        "id": "2Jx4aXlxJ-k8"
      }
    },
    {
      "cell_type": "markdown",
      "source": [
        "RERIEVER first takes the user query convert it into the embeddings using same embedding model as used by vector store and then perform semantic search in Vector Store"
      ],
      "metadata": {
        "id": "j06kIOf8KWkW"
      }
    },
    {
      "cell_type": "code",
      "source": [
        "retriever=vector_store.as_retriever(search_kwargs={'k':4})"
      ],
      "metadata": {
        "id": "doPLXGCTKAy4"
      },
      "execution_count": null,
      "outputs": []
    },
    {
      "cell_type": "markdown",
      "source": [
        "To extract text from each doc received from retriever"
      ],
      "metadata": {
        "id": "ZqXQm90NOFVb"
      }
    },
    {
      "cell_type": "code",
      "source": [
        "def format_docs(retrieved_docs):\n",
        "  context_text = \"\\n\\n\".join(doc.page_content for doc in retrieved_docs)\n",
        "  return context_text"
      ],
      "metadata": {
        "id": "uhn6OtMBOExQ"
      },
      "execution_count": null,
      "outputs": []
    },
    {
      "cell_type": "markdown",
      "source": [
        "### **PROMPT**"
      ],
      "metadata": {
        "id": "aBCh2AekKtq2"
      }
    },
    {
      "cell_type": "code",
      "source": [
        "from langchain.prompts import PromptTemplate\n",
        "prompts=PromptTemplate(\n",
        "      template=\"\"\"You are helpful assisstant\n",
        "      Answer ONLY from the provided transcript context.\n",
        "      If the context is insufficient, just say you don't know.\n",
        "      {context}\n",
        "      Question:{question}\n",
        "      \"\"\",\n",
        "      input_variables=['context','question']\n",
        ")"
      ],
      "metadata": {
        "id": "P1f4SY0pKxlx"
      },
      "execution_count": null,
      "outputs": []
    },
    {
      "cell_type": "markdown",
      "source": [
        "### **CHAIN PART**"
      ],
      "metadata": {
        "id": "WXgaT6CeLof1"
      }
    },
    {
      "cell_type": "code",
      "source": [
        "from google.colab import userdata\n",
        "key=userdata.get('groq_api_key')"
      ],
      "metadata": {
        "id": "KrnkLQhVRp28"
      },
      "execution_count": null,
      "outputs": []
    },
    {
      "cell_type": "code",
      "source": [
        "from langchain_groq import ChatGroq\n",
        "llm=ChatGroq(model='llama-3.1-8b-instant',api_key=key)"
      ],
      "metadata": {
        "id": "MuKFtS-gLsK_"
      },
      "execution_count": null,
      "outputs": []
    },
    {
      "cell_type": "code",
      "source": [
        "from langchain_core.runnables import RunnableParallel,RunnablePassthrough,RunnableLambda\n",
        "from langchain_core.output_parsers import StrOutputParser"
      ],
      "metadata": {
        "id": "k-ism6BdL4k_"
      },
      "execution_count": null,
      "outputs": []
    },
    {
      "cell_type": "code",
      "source": [
        "parser=StrOutputParser()"
      ],
      "metadata": {
        "id": "yivIjCYtMwN7"
      },
      "execution_count": null,
      "outputs": []
    },
    {
      "cell_type": "code",
      "source": [
        "parallel_chain=RunnableParallel(\n",
        "    {\n",
        "    'question':RunnablePassthrough(),\n",
        "     'context':retriever|RunnableLambda(format_docs)\n",
        "    }\n",
        ")"
      ],
      "metadata": {
        "id": "uWXbKtKdNEkK"
      },
      "execution_count": null,
      "outputs": []
    },
    {
      "cell_type": "code",
      "source": [
        "chain=parallel_chain|prompts|llm|parser"
      ],
      "metadata": {
        "id": "HG2UsCZnOXuR"
      },
      "execution_count": null,
      "outputs": []
    },
    {
      "cell_type": "code",
      "source": [
        "chain.invoke('Can you summarize the video')"
      ],
      "metadata": {
        "id": "U_WjPxvUOeGm"
      },
      "execution_count": null,
      "outputs": []
    }
  ]
}