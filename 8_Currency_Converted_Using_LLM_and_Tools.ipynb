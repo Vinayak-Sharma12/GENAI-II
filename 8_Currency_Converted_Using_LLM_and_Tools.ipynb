{
  "nbformat": 4,
  "nbformat_minor": 0,
  "metadata": {
    "colab": {
      "provenance": [],
      "authorship_tag": "ABX9TyMMI6/R0/j2A6hGkDSNVZHF",
      "include_colab_link": true
    },
    "kernelspec": {
      "name": "python3",
      "display_name": "Python 3"
    },
    "language_info": {
      "name": "python"
    }
  },
  "cells": [
    {
      "cell_type": "markdown",
      "metadata": {
        "id": "view-in-github",
        "colab_type": "text"
      },
      "source": [
        "<a href=\"https://colab.research.google.com/github/Vinayak-Sharma12/GENAI-II/blob/main/8_Currency_Converted_Using_LLM_and_Tools.ipynb\" target=\"_parent\"><img src=\"https://colab.research.google.com/assets/colab-badge.svg\" alt=\"Open In Colab\"/></a>"
      ]
    },
    {
      "cell_type": "code",
      "execution_count": 2,
      "metadata": {
        "id": "8NnKdX_cU9bG"
      },
      "outputs": [],
      "source": [
        "!pip install -q langchain langchain_groq langchain_community requests"
      ]
    },
    {
      "cell_type": "markdown",
      "source": [
        "### **Tool to fetch live Conversion factor and Convert function** *italicized text*"
      ],
      "metadata": {
        "id": "lzDhyT0YV_y4"
      }
    },
    {
      "cell_type": "code",
      "source": [
        "from langchain_core.tools import tool\n",
        "import requests\n",
        "import json"
      ],
      "metadata": {
        "id": "_SZ30GVbWInp"
      },
      "execution_count": 5,
      "outputs": []
    },
    {
      "cell_type": "code",
      "source": [
        "@tool\n",
        "def conversion_factor(base_currency:str,target_currency:str)->float:\n",
        "     \"\"\"This function fetches currency conversion factor between given base currency and target currency\"\"\"\n",
        "     url=f\"https://v6.exchangerate-api.com/v6/c754eab14ffab33112e380ca/pair/{base_currency}/{target_currency}\"\n",
        "     response=requests.get(url)\n",
        "     return response.json()"
      ],
      "metadata": {
        "id": "JQUBflicWF0v"
      },
      "execution_count": 9,
      "outputs": []
    },
    {
      "cell_type": "code",
      "source": [
        "@tool\n",
        "def convert(base_currency_value:int,conversion_rate:float)->float:\n",
        "  \"\"\"given a currency conversion rate this function calculates the target currency value from a given base currency value\"\"\"\n",
        "\n",
        "  return base_currency_value*conversion_rate\n",
        "\n",
        "\n"
      ],
      "metadata": {
        "id": "AmRRsPHJWur6"
      },
      "execution_count": 11,
      "outputs": []
    },
    {
      "cell_type": "markdown",
      "source": [
        "## **Tool Binding**"
      ],
      "metadata": {
        "id": "rAoSJQNtY0TH"
      }
    },
    {
      "cell_type": "code",
      "source": [
        "from langchain_groq import ChatGroq\n",
        "llm=ChatGroq(model='llama-3.1-8b-instant',api_key='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')"
      ],
      "metadata": {
        "id": "KZdSumsKY5lZ"
      },
      "execution_count": 12,
      "outputs": []
    },
    {
      "cell_type": "code",
      "source": [
        "llm_with_tools=llm.bind_tools([conversion_factor,convert])"
      ],
      "metadata": {
        "id": "tjW87h12ZMI8"
      },
      "execution_count": 13,
      "outputs": []
    },
    {
      "cell_type": "code",
      "source": [
        "result=llm_with_tools.invoke('What is the USD 10 in INR')"
      ],
      "metadata": {
        "id": "sAnPSqD3absR"
      },
      "execution_count": 26,
      "outputs": []
    },
    {
      "cell_type": "code",
      "source": [
        "result"
      ],
      "metadata": {
        "colab": {
          "base_uri": "https://localhost:8080/"
        },
        "id": "XZKjR0sRajG_",
        "outputId": "8f60da60-7888-4758-be08-e1c276bc0bab"
      },
      "execution_count": 27,
      "outputs": [
        {
          "output_type": "execute_result",
          "data": {
            "text/plain": [
              "AIMessage(content='', additional_kwargs={'tool_calls': [{'id': 'call_s1g3', 'function': {'arguments': '{\"base_currency\": \"USD\", \"target_currency\": \"INR\"}', 'name': 'conversion_factor'}, 'type': 'function'}, {'id': 'call_1j8n', 'function': {'arguments': '{\"base_currency_value\": 10, \"conversion_rate\": 80.57}', 'name': 'convert'}, 'type': 'function'}]}, response_metadata={'token_usage': {'completion_tokens': 47, 'prompt_tokens': 336, 'total_tokens': 383, 'completion_time': 0.062666667, 'prompt_time': 0.060407298, 'queue_time': 0.522534916, 'total_time': 0.123073965}, 'model_name': 'llama-3.1-8b-instant', 'system_fingerprint': 'fp_a4265e44d5', 'finish_reason': 'tool_calls', 'logprobs': None}, id='run-4514ade6-a4b3-4867-9d85-85ecb54cde48-0', tool_calls=[{'name': 'conversion_factor', 'args': {'base_currency': 'USD', 'target_currency': 'INR'}, 'id': 'call_s1g3', 'type': 'tool_call'}, {'name': 'convert', 'args': {'base_currency_value': 10, 'conversion_rate': 80.57}, 'id': 'call_1j8n', 'type': 'tool_call'}], usage_metadata={'input_tokens': 336, 'output_tokens': 47, 'total_tokens': 383})"
            ]
          },
          "metadata": {},
          "execution_count": 27
        }
      ]
    },
    {
      "cell_type": "code",
      "source": [
        "result.tool_calls\n",
        "#Current was 84.57 so this means llm is taking the old one so it means it is running both tools\n",
        "#And not giving input from first tool to other which should be the case\n",
        "#And also it is not AI agent we are just integrating tools with lln"
      ],
      "metadata": {
        "colab": {
          "base_uri": "https://localhost:8080/"
        },
        "id": "IKwzsPTLal-4",
        "outputId": "aa3b5a5e-bede-4ad5-865b-6034fc894a0f"
      },
      "execution_count": 29,
      "outputs": [
        {
          "output_type": "execute_result",
          "data": {
            "text/plain": [
              "[{'name': 'conversion_factor',\n",
              "  'args': {'base_currency': 'USD', 'target_currency': 'INR'},\n",
              "  'id': 'call_s1g3',\n",
              "  'type': 'tool_call'},\n",
              " {'name': 'convert',\n",
              "  'args': {'base_currency_value': 10, 'conversion_rate': 80.57},\n",
              "  'id': 'call_1j8n',\n",
              "  'type': 'tool_call'}]"
            ]
          },
          "metadata": {},
          "execution_count": 29
        }
      ]
    },
    {
      "cell_type": "markdown",
      "source": [
        "### **Injected Tool Argument**"
      ],
      "metadata": {
        "id": "d8pECoGDcSpv"
      }
    },
    {
      "cell_type": "code",
      "source": [
        "from langchain_core.tools import InjectedToolArg\n",
        "from typing import Annotated"
      ],
      "metadata": {
        "id": "qmsFJ9BTdKrb"
      },
      "execution_count": 30,
      "outputs": []
    },
    {
      "cell_type": "code",
      "source": [
        "@tool\n",
        "def convert(base_currency_value:int,conversion_rate:Annotated[float,InjectedToolArg])->float:\n",
        "  \"\"\"given a currency conversion rate this function calculates the target currency value from a given base currency value\"\"\"\n",
        "\n",
        "  return base_currency_value*conversion_rate\n",
        "\n",
        "\n"
      ],
      "metadata": {
        "id": "fmrT6Qd0cXaL"
      },
      "execution_count": 32,
      "outputs": []
    },
    {
      "cell_type": "code",
      "source": [
        "llm_with_tools=llm.bind_tools([conversion_factor,convert])"
      ],
      "metadata": {
        "id": "ZzBTXoNxeecQ"
      },
      "execution_count": 60,
      "outputs": []
    },
    {
      "cell_type": "code",
      "source": [
        "result=llm_with_tools.invoke('What is the USD 10 in INR')"
      ],
      "metadata": {
        "id": "cYBdcwN7ejlt"
      },
      "execution_count": 61,
      "outputs": []
    },
    {
      "cell_type": "code",
      "source": [
        "result"
      ],
      "metadata": {
        "colab": {
          "base_uri": "https://localhost:8080/"
        },
        "id": "Hgjdi3-Oek7W",
        "outputId": "be963570-ff6b-4682-ab78-dc6b04455cb5"
      },
      "execution_count": 62,
      "outputs": [
        {
          "output_type": "execute_result",
          "data": {
            "text/plain": [
              "AIMessage(content='', additional_kwargs={'tool_calls': [{'id': 'call_mzaa', 'function': {'arguments': '{\"base_currency\": \"USD\", \"target_currency\": \"INR\"}', 'name': 'conversion_factor'}, 'type': 'function'}, {'id': 'call_y4ef', 'function': {'arguments': '{\"base_currency_value\": 10}', 'name': 'convert'}, 'type': 'function'}]}, response_metadata={'token_usage': {'completion_tokens': 38, 'prompt_tokens': 326, 'total_tokens': 364, 'completion_time': 0.050666667, 'prompt_time': 0.031708085, 'queue_time': 0.411176132, 'total_time': 0.082374752}, 'model_name': 'llama-3.1-8b-instant', 'system_fingerprint': 'fp_a4265e44d5', 'finish_reason': 'tool_calls', 'logprobs': None}, id='run-95679b43-9678-4d26-898f-0e530ce0a577-0', tool_calls=[{'name': 'conversion_factor', 'args': {'base_currency': 'USD', 'target_currency': 'INR'}, 'id': 'call_mzaa', 'type': 'tool_call'}, {'name': 'convert', 'args': {'base_currency_value': 10}, 'id': 'call_y4ef', 'type': 'tool_call'}], usage_metadata={'input_tokens': 326, 'output_tokens': 38, 'total_tokens': 364})"
            ]
          },
          "metadata": {},
          "execution_count": 62
        }
      ]
    },
    {
      "cell_type": "code",
      "source": [
        "result.tool_calls"
      ],
      "metadata": {
        "colab": {
          "base_uri": "https://localhost:8080/"
        },
        "id": "dSu5V_LzeoZw",
        "outputId": "44a2f75c-f6a9-40b8-cc80-61099e94791e"
      },
      "execution_count": 63,
      "outputs": [
        {
          "output_type": "execute_result",
          "data": {
            "text/plain": [
              "[{'name': 'conversion_factor',\n",
              "  'args': {'base_currency': 'USD', 'target_currency': 'INR'},\n",
              "  'id': 'call_mzaa',\n",
              "  'type': 'tool_call'},\n",
              " {'name': 'convert',\n",
              "  'args': {'base_currency_value': 10},\n",
              "  'id': 'call_y4ef',\n",
              "  'type': 'tool_call'}]"
            ]
          },
          "metadata": {},
          "execution_count": 63
        }
      ]
    },
    {
      "cell_type": "code",
      "source": [
        "result.tool_calls[0]['args']['target_currency']"
      ],
      "metadata": {
        "colab": {
          "base_uri": "https://localhost:8080/",
          "height": 35
        },
        "id": "MU3pfI5KgJgS",
        "outputId": "423ccafb-13fe-4813-efa7-06399545fdaa"
      },
      "execution_count": 64,
      "outputs": [
        {
          "output_type": "execute_result",
          "data": {
            "text/plain": [
              "'INR'"
            ],
            "application/vnd.google.colaboratory.intrinsic+json": {
              "type": "string"
            }
          },
          "metadata": {},
          "execution_count": 64
        }
      ]
    },
    {
      "cell_type": "code",
      "source": [
        "result.tool_calls[0]['args']['base_currency']"
      ],
      "metadata": {
        "colab": {
          "base_uri": "https://localhost:8080/",
          "height": 35
        },
        "id": "Z_gu174VgNes",
        "outputId": "0aac0851-214b-449c-9722-a0223d10b487"
      },
      "execution_count": 65,
      "outputs": [
        {
          "output_type": "execute_result",
          "data": {
            "text/plain": [
              "'USD'"
            ],
            "application/vnd.google.colaboratory.intrinsic+json": {
              "type": "string"
            }
          },
          "metadata": {},
          "execution_count": 65
        }
      ]
    },
    {
      "cell_type": "code",
      "source": [
        "output=conversion_factor.invoke({'base_currency':result.tool_calls[0]['args']['base_currency'],'target_currency':result.tool_calls[0]['args']['target_currency']})"
      ],
      "metadata": {
        "id": "dcscgs10fGxt"
      },
      "execution_count": 66,
      "outputs": []
    },
    {
      "cell_type": "code",
      "source": [
        "output"
      ],
      "metadata": {
        "colab": {
          "base_uri": "https://localhost:8080/"
        },
        "id": "QBjcv7V7gjVd",
        "outputId": "91549bc8-58e9-4464-a45f-68a4bdb7c232"
      },
      "execution_count": 67,
      "outputs": [
        {
          "output_type": "execute_result",
          "data": {
            "text/plain": [
              "{'result': 'success',\n",
              " 'documentation': 'https://www.exchangerate-api.com/docs',\n",
              " 'terms_of_use': 'https://www.exchangerate-api.com/terms',\n",
              " 'time_last_update_unix': 1745971201,\n",
              " 'time_last_update_utc': 'Wed, 30 Apr 2025 00:00:01 +0000',\n",
              " 'time_next_update_unix': 1746057601,\n",
              " 'time_next_update_utc': 'Thu, 01 May 2025 00:00:01 +0000',\n",
              " 'base_code': 'USD',\n",
              " 'target_code': 'INR',\n",
              " 'conversion_rate': 85.2184}"
            ]
          },
          "metadata": {},
          "execution_count": 67
        }
      ]
    },
    {
      "cell_type": "code",
      "source": [
        "result.tool_calls[1]['args']['conversion_rate']=output['conversion_rate']"
      ],
      "metadata": {
        "id": "5lvq1lkae4dG"
      },
      "execution_count": 68,
      "outputs": []
    },
    {
      "cell_type": "code",
      "source": [
        "result.tool_calls"
      ],
      "metadata": {
        "colab": {
          "base_uri": "https://localhost:8080/"
        },
        "id": "2UjvhTD2g_WW",
        "outputId": "92532ef6-e6b0-479c-849f-ff07fc03bf60"
      },
      "execution_count": 69,
      "outputs": [
        {
          "output_type": "execute_result",
          "data": {
            "text/plain": [
              "[{'name': 'conversion_factor',\n",
              "  'args': {'base_currency': 'USD', 'target_currency': 'INR'},\n",
              "  'id': 'call_mzaa',\n",
              "  'type': 'tool_call'},\n",
              " {'name': 'convert',\n",
              "  'args': {'base_currency_value': 10, 'conversion_rate': 85.2184},\n",
              "  'id': 'call_y4ef',\n",
              "  'type': 'tool_call'}]"
            ]
          },
          "metadata": {},
          "execution_count": 69
        }
      ]
    },
    {
      "cell_type": "code",
      "source": [
        "final_result=convert.invoke('base_conversion')"
      ],
      "metadata": {
        "colab": {
          "base_uri": "https://localhost:8080/",
          "height": 144
        },
        "id": "SFSWq2vPhMuW",
        "outputId": "8a4c7ff6-0d3a-4b34-f582-7ffd53650949"
      },
      "execution_count": 71,
      "outputs": [
        {
          "output_type": "error",
          "ename": "TypeError",
          "evalue": "unhashable type: 'dict'",
          "traceback": [
            "\u001b[0;31m---------------------------------------------------------------------------\u001b[0m",
            "\u001b[0;31mTypeError\u001b[0m                                 Traceback (most recent call last)",
            "\u001b[0;32m<ipython-input-71-bf6b9fa4f60f>\u001b[0m in \u001b[0;36m<cell line: 0>\u001b[0;34m()\u001b[0m\n\u001b[0;32m----> 1\u001b[0;31m \u001b[0mfinal_result\u001b[0m\u001b[0;34m=\u001b[0m\u001b[0mconvert\u001b[0m\u001b[0;34m.\u001b[0m\u001b[0minvoke\u001b[0m\u001b[0;34m(\u001b[0m\u001b[0;34m{\u001b[0m\u001b[0mresult\u001b[0m\u001b[0;34m.\u001b[0m\u001b[0mtool_calls\u001b[0m\u001b[0;34m[\u001b[0m\u001b[0;36m1\u001b[0m\u001b[0;34m]\u001b[0m\u001b[0;34m[\u001b[0m\u001b[0;34m'args'\u001b[0m\u001b[0;34m]\u001b[0m\u001b[0;34m}\u001b[0m\u001b[0;34m)\u001b[0m\u001b[0;34m\u001b[0m\u001b[0;34m\u001b[0m\u001b[0m\n\u001b[0m",
            "\u001b[0;31mTypeError\u001b[0m: unhashable type: 'dict'"
          ]
        }
      ]
    },
    {
      "cell_type": "markdown",
      "source": [
        "### *AI Agent*"
      ],
      "metadata": {
        "id": "l4YCsDnjhqQ_"
      }
    },
    {
      "cell_type": "code",
      "source": [
        "from langchain.agents import initialize_agent,AgentType\n",
        "agent_executor=initialize_agent(\n",
        "    tools=[conversion_factor,convert],\n",
        "    llm=llm,\n",
        "    agent=AgentType.STRUCTURED_CHAT_ZERO_SHOT_REACT_DESCRIPTION,\n",
        "    verbose=True\n",
        ")"
      ],
      "metadata": {
        "id": "fI4JJhjlhuQK"
      },
      "execution_count": 74,
      "outputs": []
    },
    {
      "cell_type": "code",
      "source": [
        "user_query = \"Convert 1000 USD to INR\"\n",
        "\n",
        "response = agent_executor.invoke({\"input\": user_query})"
      ],
      "metadata": {
        "colab": {
          "base_uri": "https://localhost:8080/"
        },
        "id": "zOaSDuA9iN8f",
        "outputId": "d09adaf1-166d-4430-c9e2-cf1729230ea1"
      },
      "execution_count": 75,
      "outputs": [
        {
          "output_type": "stream",
          "name": "stdout",
          "text": [
            "\n",
            "\n",
            "\u001b[1m> Entering new AgentExecutor chain...\u001b[0m\n",
            "\u001b[32;1m\u001b[1;3mAction: \n",
            "```\n",
            "{\n",
            "  \"action\": \"conversion_factor\",\n",
            "  \"action_input\": {\n",
            "    \"base_currency\": \"USD\",\n",
            "    \"target_currency\": \"INR\"\n",
            "  }\n",
            "}\n",
            "```\n",
            "\u001b[0m\n",
            "Observation: \u001b[36;1m\u001b[1;3m{'result': 'success', 'documentation': 'https://www.exchangerate-api.com/docs', 'terms_of_use': 'https://www.exchangerate-api.com/terms', 'time_last_update_unix': 1745971201, 'time_last_update_utc': 'Wed, 30 Apr 2025 00:00:01 +0000', 'time_next_update_unix': 1746057601, 'time_next_update_utc': 'Thu, 01 May 2025 00:00:01 +0000', 'base_code': 'USD', 'target_code': 'INR', 'conversion_rate': 85.2184}\u001b[0m\n",
            "Thought:\u001b[32;1m\u001b[1;3mAction: \n",
            "```\n",
            "{\n",
            "  \"action\": \"convert\",\n",
            "  \"action_input\": {\n",
            "    \"base_currency_value\": 1000,\n",
            "    \"conversion_rate\": 85.2184\n",
            "  }\n",
            "}\n",
            "```\u001b[0m\n",
            "Observation: \u001b[33;1m\u001b[1;3m85218.40000000001\u001b[0m\n",
            "Thought:\u001b[32;1m\u001b[1;3mAction: \n",
            "```\n",
            "{\n",
            "  \"action\": \"Final Answer\",\n",
            "  \"action_input\": \"The conversion of 1000 USD to INR is 85218.40000000001\"\n",
            "}\n",
            "```\u001b[0m\n",
            "\n",
            "\u001b[1m> Finished chain.\u001b[0m\n"
          ]
        }
      ]
    },
    {
      "cell_type": "code",
      "source": [
        "response"
      ],
      "metadata": {
        "colab": {
          "base_uri": "https://localhost:8080/"
        },
        "id": "QrCVI27giZop",
        "outputId": "6c00c01d-eee5-4fe4-c117-ccd8ab1f825a"
      },
      "execution_count": 76,
      "outputs": [
        {
          "output_type": "execute_result",
          "data": {
            "text/plain": [
              "{'input': 'Convert 1000 USD to INR',\n",
              " 'output': 'The conversion of 1000 USD to INR is 85218.40000000001'}"
            ]
          },
          "metadata": {},
          "execution_count": 76
        }
      ]
    }
  ]
}