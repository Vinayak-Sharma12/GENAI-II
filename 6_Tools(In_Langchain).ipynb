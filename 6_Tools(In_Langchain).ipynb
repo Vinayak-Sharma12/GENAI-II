{
  "nbformat": 4,
  "nbformat_minor": 0,
  "metadata": {
    "colab": {
      "provenance": [],
      "authorship_tag": "ABX9TyOQVWm7DlSKUa4keZ0vNwXM",
      "include_colab_link": true
    },
    "kernelspec": {
      "name": "python3",
      "display_name": "Python 3"
    },
    "language_info": {
      "name": "python"
    }
  },
  "cells": [
    {
      "cell_type": "markdown",
      "metadata": {
        "id": "view-in-github",
        "colab_type": "text"
      },
      "source": [
        "<a href=\"https://colab.research.google.com/github/Vinayak-Sharma12/GENAI-II/blob/main/6_Tools(In_Langchain).ipynb\" target=\"_parent\"><img src=\"https://colab.research.google.com/assets/colab-badge.svg\" alt=\"Open In Colab\"/></a>"
      ]
    },
    {
      "cell_type": "markdown",
      "source": [
        "# **Tools**"
      ],
      "metadata": {
        "id": "SiXWF3bSeQcH"
      }
    },
    {
      "cell_type": "code",
      "source": [
        "!pip install -q langchain langchain_community"
      ],
      "metadata": {
        "id": "pjVHsbxIeVQv"
      },
      "execution_count": 15,
      "outputs": []
    },
    {
      "cell_type": "markdown",
      "source": [
        "## **DUCK DUCK GO SEARCH**"
      ],
      "metadata": {
        "id": "ATEdgtMvf4O_"
      }
    },
    {
      "cell_type": "code",
      "source": [
        "!pip install -U -q duckduckgo-search"
      ],
      "metadata": {
        "id": "wmovt9h-fb7y"
      },
      "execution_count": 14,
      "outputs": []
    },
    {
      "cell_type": "code",
      "source": [
        "from langchain_community.tools import DuckDuckGoSearchRun"
      ],
      "metadata": {
        "id": "GUvCfZZOefPm"
      },
      "execution_count": 4,
      "outputs": []
    },
    {
      "cell_type": "code",
      "source": [
        "duck=DuckDuckGoSearchRun()\n",
        "result=duck.invoke('ipl points table')"
      ],
      "metadata": {
        "id": "7UJBG7xGetgq"
      },
      "execution_count": 12,
      "outputs": []
    },
    {
      "cell_type": "code",
      "source": [
        "result"
      ],
      "metadata": {
        "colab": {
          "base_uri": "https://localhost:8080/",
          "height": 214
        },
        "id": "svBya6ZTfhJX",
        "outputId": "58e77172-790f-402b-d481-beb38432b59c"
      },
      "execution_count": 13,
      "outputs": [
        {
          "output_type": "execute_result",
          "data": {
            "text/plain": [
              "\"At the bottom of the table are Rajasthan Royals, Sunrisers Hyderabad, and Chennai Super Kings — all with 4 points each. Among these three, RR have the best net run rate at -0.633, followed by SRH (-1.217) and CSK (-1.392). IPL 2025 Points Table: After LSG vs DC Match Get the latest updates on the Indian Premier League points table and standings on ESPNcricinfo. Find out the IPL 2025 ranking, matches, wins, losses, and NRR for all the matches played. IPL 2025 points table: Find the latest updated standings of the Indian Premier League after the Rajasthan Royals and Gujarat Titans on April 28. IPL 2025 Points Table, Top Batters, Top Bowlers, Team Rankings and Standings After Yesterday's Matches: After Sunday's double-header in the Indian Premier League, there was plenty of upheaval at the top of the IPL 2025 standings as well as the race for the Orange Cap and the Purple Cap. Royal Challengers Bengaluru were the table toppers at the end of a frantic Sunday in the IPL after they ... IPL 2025 Points Table, Orange Cap and Purple Cap after RR vs GT: Rajasthan Royals keep alive their playoff hopes by securing a big win over Gujarat Titans.\""
            ],
            "application/vnd.google.colaboratory.intrinsic+json": {
              "type": "string"
            }
          },
          "metadata": {},
          "execution_count": 13
        }
      ]
    },
    {
      "cell_type": "markdown",
      "source": [
        "## **PythonREPLTool** -> Run a raw python code"
      ],
      "metadata": {
        "id": "I-ijzf_-fyey"
      }
    },
    {
      "cell_type": "code",
      "source": [
        "!pip install -q langchain_experimental"
      ],
      "metadata": {
        "colab": {
          "base_uri": "https://localhost:8080/"
        },
        "id": "HU6VUyuJgXnn",
        "outputId": "85bbb9c9-4297-4dbf-be34-c034b3e40130"
      },
      "execution_count": 16,
      "outputs": [
        {
          "output_type": "stream",
          "name": "stdout",
          "text": [
            "\u001b[?25l   \u001b[90m━━━━━━━━━━━━━━━━━━━━━━━━━━━━━━━━━━━━━━━━\u001b[0m \u001b[32m0.0/209.2 kB\u001b[0m \u001b[31m?\u001b[0m eta \u001b[36m-:--:--\u001b[0m\r\u001b[2K   \u001b[91m━━━━━━━━━━━━━━━━━━━━━━━━━━━━━━━━━━━━━━━\u001b[0m\u001b[90m╺\u001b[0m \u001b[32m204.8/209.2 kB\u001b[0m \u001b[31m8.0 MB/s\u001b[0m eta \u001b[36m0:00:01\u001b[0m\r\u001b[2K   \u001b[90m━━━━━━━━━━━━━━━━━━━━━━━━━━━━━━━━━━━━━━━━\u001b[0m \u001b[32m209.2/209.2 kB\u001b[0m \u001b[31m5.0 MB/s\u001b[0m eta \u001b[36m0:00:00\u001b[0m\n",
            "\u001b[?25h"
          ]
        }
      ]
    },
    {
      "cell_type": "code",
      "source": [
        "from langchain_experimental.utilities import PythonREPL"
      ],
      "metadata": {
        "id": "uRN6PZ5Fgc5l"
      },
      "execution_count": 17,
      "outputs": []
    },
    {
      "cell_type": "code",
      "source": [
        "python_tool=PythonREPL()\n",
        "result=python_tool.run(print(1+1))"
      ],
      "metadata": {
        "colab": {
          "base_uri": "https://localhost:8080/"
        },
        "id": "djgDPK0mgqeX",
        "outputId": "1f721458-835a-4f50-f6e6-448e00d84a74"
      },
      "execution_count": 21,
      "outputs": [
        {
          "output_type": "stream",
          "name": "stderr",
          "text": [
            "WARNING:langchain_experimental.utilities.python:Python REPL can execute arbitrary code. Use with caution.\n"
          ]
        },
        {
          "output_type": "stream",
          "name": "stdout",
          "text": [
            "2\n"
          ]
        }
      ]
    },
    {
      "cell_type": "markdown",
      "source": [
        "Creating Tool for AI agent with description so it could Understand"
      ],
      "metadata": {
        "id": "BvgPbxW2hOKP"
      }
    },
    {
      "cell_type": "code",
      "source": [
        "from langchain_experimental.utilities import PythonREPL\n",
        "from langchain_core.tools import Tool\n",
        "python_repl=PythonREPL()\n",
        "repl_tool=Tool(\n",
        "    name=\"python_repl\",\n",
        "    description='A Python shell. Use this to execute python commands. Input should be a valid python command. If you want to see the output of a value, you should print it out with `print(...)`.\"',\n",
        "    func=python_repl.run\n",
        ")"
      ],
      "metadata": {
        "id": "rq_9KdRxhT6d"
      },
      "execution_count": 23,
      "outputs": []
    },
    {
      "cell_type": "code",
      "source": [
        "result=repl_tool.func(print(1+1))"
      ],
      "metadata": {
        "colab": {
          "base_uri": "https://localhost:8080/"
        },
        "id": "L6yjBmGkiJam",
        "outputId": "894c9725-a057-4219-847f-2da4adf5a5fa"
      },
      "execution_count": 25,
      "outputs": [
        {
          "output_type": "stream",
          "name": "stdout",
          "text": [
            "2\n"
          ]
        }
      ]
    },
    {
      "cell_type": "markdown",
      "source": [
        "### **https://python.langchain.com/docs/integrations/tools/**"
      ],
      "metadata": {
        "id": "-FUls2nOkgk3"
      }
    }
  ]
}